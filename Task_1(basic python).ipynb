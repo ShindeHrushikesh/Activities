{
 "cells": [
  {
   "cell_type": "markdown",
   "id": "01883c55",
   "metadata": {},
   "source": [
    "### Comment"
   ]
  },
  {
   "cell_type": "markdown",
   "id": "0816c206",
   "metadata": {},
   "source": [
    "for single line comment we use (#)\n",
    "    \n",
    "for string we use following:\n",
    "    \n",
    "'We can write comment using single comma or double comma or tripple single comma'\n",
    "    \n",
    "\"We can write comment using single comma or double comma or tripple single comma's\"\n",
    "    \n",
    "'''We can write comment using single comma or double comma or tripple single comma's'''\n",
    "    "
   ]
  },
  {
   "cell_type": "markdown",
   "id": "262a14b5",
   "metadata": {},
   "source": [
    "### Variable"
   ]
  },
  {
   "cell_type": "markdown",
   "id": "f7193880",
   "metadata": {},
   "source": [
    "Variable is the name which we assigned to some stuff.\n",
    "\n",
    "The name of the variable always start with either a letter or an underscore (_).\n",
    "\n",
    "The name of the variable cannot start with a number.\n",
    "\n",
    "No use of space is allowed in variable.\n",
    "\n",
    "e.g a=30, num=45, str_1='string'"
   ]
  },
  {
   "cell_type": "markdown",
   "id": "8e13a327",
   "metadata": {},
   "source": [
    "### Data types"
   ]
  },
  {
   "cell_type": "markdown",
   "id": "f17405aa",
   "metadata": {},
   "source": [
    "there are 4 Data types \n",
    "\n",
    "1) Integeres: 1 , 2 , 3 , 4 , 5 ,etc.\n",
    "\n",
    "2) Floats: 1.5 , 2.6 , 3.5 , 4.0 , etc , \n",
    "\n",
    "3) Booleans: True and False.\n",
    "\n",
    "4) Strings: collection of word or characters\n"
   ]
  },
  {
   "cell_type": "markdown",
   "id": "5a2f50d0",
   "metadata": {},
   "source": [
    "### Casting"
   ]
  },
  {
   "cell_type": "markdown",
   "id": "ceaa39e2",
   "metadata": {},
   "source": [
    "In casting we can change types of data's into each other."
   ]
  },
  {
   "cell_type": "code",
   "execution_count": 1,
   "id": "4b822f0b",
   "metadata": {},
   "outputs": [
    {
     "name": "stdout",
     "output_type": "stream",
     "text": [
      "<class 'int'>\n"
     ]
    }
   ],
   "source": [
    "a=32\n",
    "print(type(a))"
   ]
  },
  {
   "cell_type": "code",
   "execution_count": 2,
   "id": "ff18dfb9",
   "metadata": {},
   "outputs": [
    {
     "name": "stdout",
     "output_type": "stream",
     "text": [
      "<class 'str'>\n"
     ]
    }
   ],
   "source": [
    "a=str(a)\n",
    "print(type(a))"
   ]
  },
  {
   "cell_type": "markdown",
   "id": "26017057",
   "metadata": {},
   "source": [
    "we changed integer to string\n",
    "\n",
    "also we can do it vice versa (if possible)"
   ]
  },
  {
   "cell_type": "markdown",
   "id": "b6df5d8b",
   "metadata": {},
   "source": [
    "### String"
   ]
  },
  {
   "cell_type": "markdown",
   "id": "d24c5467",
   "metadata": {},
   "source": [
    "strings means a collection of characters or words\n",
    "\n",
    "e.g. 'Johny Johny\n",
    "\n",
    "    (Yes Papa)\n",
    "    Eating sugar?\n",
    "    \n",
    "    (No, papa)\n",
    "    Telling lies?\n",
    "    \n",
    "    (No, papa)\n",
    "    Open your mouth\n",
    "    \n",
    "    (Ah, ah, ah!)'"
   ]
  },
  {
   "cell_type": "markdown",
   "id": "ace40e89",
   "metadata": {},
   "source": [
    "### Booleans"
   ]
  },
  {
   "cell_type": "markdown",
   "id": "7bfb8a11",
   "metadata": {},
   "source": [
    "Booleans means True or False"
   ]
  },
  {
   "cell_type": "markdown",
   "id": "c7a252ac",
   "metadata": {},
   "source": [
    "### Operators"
   ]
  },
  {
   "cell_type": "markdown",
   "id": "55d7d4c0",
   "metadata": {},
   "source": [
    "there are 4 types of operators :\n",
    "\n",
    "Arithemetic Operators: in which we can do addition(+) , substraction(-) , multiplication(*) and Division(/)\n",
    "    \n",
    "Assignment Operators: in this we can do \n",
    "\n",
    "Comparison Operators: in this we can compare two values equal to (a==b) , less than (a<b) , greter than (a>b) , Not equal to(a!=b)\n",
    "                     , less than equal to (a<=b) , greter than equal to (a>=b).\n",
    "        \n",
    "Logical Operators: in this bool_1= True bool_2 = False\n",
    "    \n",
    "                   and = it gives values when both are True otherwise False\n",
    "        \n",
    "                   or = it gives values when at least one is True"
   ]
  },
  {
   "cell_type": "markdown",
   "id": "97626021",
   "metadata": {},
   "source": [
    "### Data Structures"
   ]
  },
  {
   "cell_type": "markdown",
   "id": "7658e37e",
   "metadata": {},
   "source": [
    "there are various types of data structures are as follows:\n",
    "\n",
    "List\n",
    "\n",
    "Set\n",
    "\n",
    "Tuple\n",
    "\n",
    "Dictionary\n",
    "\n",
    "Array"
   ]
  },
  {
   "cell_type": "markdown",
   "id": "e12bb8cb",
   "metadata": {},
   "source": [
    "# List\n"
   ]
  },
  {
   "cell_type": "markdown",
   "id": "c294863b",
   "metadata": {},
   "source": [
    "List always written in square parentheses and comma seperated .\n",
    "\n",
    "items/elements of the list can be updated, deleted, add, shift or move."
   ]
  },
  {
   "cell_type": "code",
   "execution_count": 3,
   "id": "9800327f",
   "metadata": {},
   "outputs": [],
   "source": [
    "list_1=[1,4,3,2,6,7,8,5,9,10]"
   ]
  },
  {
   "cell_type": "code",
   "execution_count": 4,
   "id": "0c9148f2",
   "metadata": {},
   "outputs": [
    {
     "name": "stdout",
     "output_type": "stream",
     "text": [
      "[1, 4, 3, 2, 6, 7, 8, 5, 9, 10]\n",
      "<class 'list'>\n"
     ]
    }
   ],
   "source": [
    "# using type fn we know the class of list.\n",
    "print(list_1)\n",
    "print(type(list_1))"
   ]
  },
  {
   "cell_type": "code",
   "execution_count": 5,
   "id": "78664bad",
   "metadata": {},
   "outputs": [
    {
     "data": {
      "text/plain": [
       "1"
      ]
     },
     "execution_count": 5,
     "metadata": {},
     "output_type": "execute_result"
    }
   ],
   "source": [
    "# in this we are accesing the 0th no element of list. \n",
    "list_1[0]"
   ]
  },
  {
   "cell_type": "code",
   "execution_count": 6,
   "id": "614009a3",
   "metadata": {},
   "outputs": [
    {
     "data": {
      "text/plain": [
       "[1, 4, 3, 2, 6]"
      ]
     },
     "execution_count": 6,
     "metadata": {},
     "output_type": "execute_result"
    }
   ],
   "source": [
    "# In this we are extracting elements from 0 to 4 .\n",
    "list_1[0:5]"
   ]
  },
  {
   "cell_type": "code",
   "execution_count": 7,
   "id": "46f3ed02",
   "metadata": {},
   "outputs": [
    {
     "data": {
      "text/plain": [
       "7"
      ]
     },
     "execution_count": 7,
     "metadata": {},
     "output_type": "execute_result"
    }
   ],
   "source": [
    "# we are extracting elements by index or position.\n",
    "list_1.index(5)"
   ]
  },
  {
   "cell_type": "code",
   "execution_count": 8,
   "id": "915b4e48",
   "metadata": {},
   "outputs": [
    {
     "data": {
      "text/plain": [
       "8"
      ]
     },
     "execution_count": 8,
     "metadata": {},
     "output_type": "execute_result"
    }
   ],
   "source": [
    "# we are extracting elements by index or position.\n",
    "list_1.index(9)"
   ]
  },
  {
   "cell_type": "code",
   "execution_count": 9,
   "id": "316756e3",
   "metadata": {},
   "outputs": [
    {
     "data": {
      "text/plain": [
       "[1, 4, 3, 2, 6, 7, 8, 5, 9, 10, 11]"
      ]
     },
     "execution_count": 9,
     "metadata": {},
     "output_type": "execute_result"
    }
   ],
   "source": [
    "# Using append we are adding element in list at last position.\n",
    "list_1.append(11)\n",
    "list_1"
   ]
  },
  {
   "cell_type": "code",
   "execution_count": 10,
   "id": "84bc2df5",
   "metadata": {},
   "outputs": [
    {
     "data": {
      "text/plain": [
       "[1, 4, 3, 2, 6, 7, 8, 5, 9, 10]"
      ]
     },
     "execution_count": 10,
     "metadata": {},
     "output_type": "execute_result"
    }
   ],
   "source": [
    "# Using pop we are deleting element in list from position.\n",
    "list_1.pop(10)\n",
    "list_1"
   ]
  },
  {
   "cell_type": "code",
   "execution_count": 11,
   "id": "28b24029",
   "metadata": {},
   "outputs": [
    {
     "data": {
      "text/plain": [
       "[10, 9, 5, 8, 7, 6, 2, 3, 4, 1]"
      ]
     },
     "execution_count": 11,
     "metadata": {},
     "output_type": "execute_result"
    }
   ],
   "source": [
    "#using reverse we are reversing the list.\n",
    "list_1.reverse()\n",
    "list_1"
   ]
  },
  {
   "cell_type": "code",
   "execution_count": 12,
   "id": "266ddf2b",
   "metadata": {},
   "outputs": [
    {
     "data": {
      "text/plain": [
       "[1, 2, 3, 4, 5, 6, 7, 8, 9, 10]"
      ]
     },
     "execution_count": 12,
     "metadata": {},
     "output_type": "execute_result"
    }
   ],
   "source": [
    "#using sort fn sorting list in assending order.\n",
    "list_1.sort()\n",
    "list_1"
   ]
  },
  {
   "cell_type": "code",
   "execution_count": 13,
   "id": "a5ab5b27",
   "metadata": {},
   "outputs": [
    {
     "name": "stdout",
     "output_type": "stream",
     "text": [
      "10\n"
     ]
    }
   ],
   "source": [
    "# using len fn we calculating length of list.\n",
    "print(len(list_1))"
   ]
  },
  {
   "cell_type": "code",
   "execution_count": 14,
   "id": "43d2338f",
   "metadata": {},
   "outputs": [
    {
     "data": {
      "text/plain": [
       "[12, 1, 2, 3, 4, 5, 6, 7, 8, 9, 10]"
      ]
     },
     "execution_count": 14,
     "metadata": {},
     "output_type": "execute_result"
    }
   ],
   "source": [
    "#using insert fn we add new element in list at position we want. \n",
    "list_1.insert(0,12)\n",
    "list_1"
   ]
  },
  {
   "cell_type": "code",
   "execution_count": 15,
   "id": "24a2fc7d",
   "metadata": {},
   "outputs": [
    {
     "data": {
      "text/plain": [
       "[1, 2, 3, 4, 5, 6, 7, 8, 9, 10]"
      ]
     },
     "execution_count": 15,
     "metadata": {},
     "output_type": "execute_result"
    }
   ],
   "source": [
    "#using remove fn we can delete element in list by name.\n",
    "list_1.remove(12)\n",
    "list_1"
   ]
  },
  {
   "cell_type": "markdown",
   "id": "5ba1238c",
   "metadata": {},
   "source": [
    "# Tuple\n"
   ]
  },
  {
   "cell_type": "markdown",
   "id": "ad334c0f",
   "metadata": {},
   "source": [
    "We can not change elements of tuple .\n",
    "\n",
    "we can't delete or update elements of it. so they can be used to prevent accidental addition, modification, or removal of data.\n",
    "\n",
    "tuples use less memory, and they make program execution faster than using lists.\n",
    "\n",
    "tuple are always written in round parentheses."
   ]
  },
  {
   "cell_type": "code",
   "execution_count": 16,
   "id": "83267535",
   "metadata": {},
   "outputs": [],
   "source": [
    "tup=('suraj', 'om', 'ganesh', 'vivek', 'True' , 'False' )"
   ]
  },
  {
   "cell_type": "code",
   "execution_count": 17,
   "id": "a3c3b585",
   "metadata": {},
   "outputs": [
    {
     "name": "stdout",
     "output_type": "stream",
     "text": [
      "('suraj', 'om', 'ganesh', 'vivek', 'True', 'False') <class 'tuple'>\n"
     ]
    }
   ],
   "source": [
    "print(tup,type(tup))"
   ]
  },
  {
   "cell_type": "code",
   "execution_count": 18,
   "id": "04f4d988",
   "metadata": {},
   "outputs": [
    {
     "data": {
      "text/plain": [
       "'suraj'"
      ]
     },
     "execution_count": 18,
     "metadata": {},
     "output_type": "execute_result"
    }
   ],
   "source": [
    "# in this we are accesing the 0th no element of list.\n",
    "tup[0]"
   ]
  },
  {
   "cell_type": "code",
   "execution_count": 19,
   "id": "8ce7701e",
   "metadata": {},
   "outputs": [
    {
     "data": {
      "text/plain": [
       "'True'"
      ]
     },
     "execution_count": 19,
     "metadata": {},
     "output_type": "execute_result"
    }
   ],
   "source": [
    "# in this we are accesing the 4th no element of list.\n",
    "tup[4]"
   ]
  },
  {
   "cell_type": "code",
   "execution_count": 20,
   "id": "17dbf47b",
   "metadata": {},
   "outputs": [
    {
     "data": {
      "text/plain": [
       "('suraj', 'om', 'ganesh', 'vivek')"
      ]
     },
     "execution_count": 20,
     "metadata": {},
     "output_type": "execute_result"
    }
   ],
   "source": [
    "# in this we are accesing the element of list from 0 to 3.\n",
    "tup[0:4]"
   ]
  },
  {
   "cell_type": "code",
   "execution_count": 21,
   "id": "4a00dbe8",
   "metadata": {},
   "outputs": [
    {
     "data": {
      "text/plain": [
       "4"
      ]
     },
     "execution_count": 21,
     "metadata": {},
     "output_type": "execute_result"
    }
   ],
   "source": [
    "# in this we are accesing the element of list by name.\n",
    "tup.index('True')"
   ]
  },
  {
   "cell_type": "markdown",
   "id": "290420f8",
   "metadata": {},
   "source": [
    "# Set"
   ]
  },
  {
   "cell_type": "markdown",
   "id": "ae6d3422",
   "metadata": {},
   "source": [
    "Only unique values are stored in set,it always written in curly parentheses.\n",
    "\n",
    "In Output it gives only unique values it dose not gives the repeated values.\n",
    "\n",
    "slicing and extracting are not allowed in set."
   ]
  },
  {
   "cell_type": "code",
   "execution_count": 22,
   "id": "f1896be6",
   "metadata": {},
   "outputs": [],
   "source": [
    "set1={1,4,2,7,1,4,8,1,5,4}\n",
    "set2={'suraj', 'om', 'ganesh', 'vivek', 'True' , 'False'}\n",
    "set3={1,4,2,7,11,4,8,1,5,9,}"
   ]
  },
  {
   "cell_type": "code",
   "execution_count": 23,
   "id": "e62cb209",
   "metadata": {},
   "outputs": [
    {
     "name": "stdout",
     "output_type": "stream",
     "text": [
      "{1, 2, 4, 5, 7, 8}\n"
     ]
    }
   ],
   "source": [
    "#if we print the set it gives only unique values.\n",
    "print(set1)"
   ]
  },
  {
   "cell_type": "code",
   "execution_count": 24,
   "id": "69d41fc3",
   "metadata": {},
   "outputs": [
    {
     "data": {
      "text/plain": [
       "6"
      ]
     },
     "execution_count": 24,
     "metadata": {},
     "output_type": "execute_result"
    }
   ],
   "source": [
    "#it also count only unique values.\n",
    "len(set1)"
   ]
  },
  {
   "cell_type": "code",
   "execution_count": 25,
   "id": "4f1b05df",
   "metadata": {},
   "outputs": [
    {
     "data": {
      "text/plain": [
       "{1, 2, 4, 5, 7, 8, 10}"
      ]
     },
     "execution_count": 25,
     "metadata": {},
     "output_type": "execute_result"
    }
   ],
   "source": [
    "#For adding element in set we use add fn.\n",
    "set1.add(10)\n",
    "set1"
   ]
  },
  {
   "cell_type": "code",
   "execution_count": 26,
   "id": "a613e35c",
   "metadata": {},
   "outputs": [
    {
     "data": {
      "text/plain": [
       "{1, 2, 4, 5, 7, 8}"
      ]
     },
     "execution_count": 26,
     "metadata": {},
     "output_type": "execute_result"
    }
   ],
   "source": [
    "#for getting same values of two set we use intersection fn.\n",
    "set1.intersection(set3)"
   ]
  },
  {
   "cell_type": "code",
   "execution_count": 27,
   "id": "208bc5f4",
   "metadata": {},
   "outputs": [
    {
     "data": {
      "text/plain": [
       "{9, 11}"
      ]
     },
     "execution_count": 27,
     "metadata": {},
     "output_type": "execute_result"
    }
   ],
   "source": [
    "#for getting different values of two set we use difference fn.\n",
    "set3.difference(set1)"
   ]
  },
  {
   "cell_type": "code",
   "execution_count": 28,
   "id": "a7205f9b",
   "metadata": {},
   "outputs": [
    {
     "data": {
      "text/plain": [
       "{1, 2, 4, 5, 7, 8, 9, 10, 11}"
      ]
     },
     "execution_count": 28,
     "metadata": {},
     "output_type": "execute_result"
    }
   ],
   "source": [
    "#for addition of 2 sets we use |= this symbol instead of +.other symbols are same as they are.\n",
    "set3|=set1\n",
    "set3"
   ]
  },
  {
   "cell_type": "markdown",
   "id": "1b83f54a",
   "metadata": {},
   "source": [
    "# Dictionary"
   ]
  },
  {
   "cell_type": "markdown",
   "id": "fa1c7d02",
   "metadata": {},
   "source": [
    "Dictinary is also written in curly parentheses.\n",
    "\n",
    "Dictionary have Keys and value pair.\n",
    "\n",
    "All pairs must be unique i.e. if we access key we will get value corresponding to it .\n"
   ]
  },
  {
   "cell_type": "code",
   "execution_count": 1,
   "id": "ceb62f62",
   "metadata": {},
   "outputs": [],
   "source": [
    "# In Dictionary keys and values can be only string.\n",
    "dict1={'Apple':'Red','Banana':'Yellow','Grapes':'Green'}"
   ]
  },
  {
   "cell_type": "code",
   "execution_count": 2,
   "id": "99685270",
   "metadata": {},
   "outputs": [],
   "source": [
    "# In Dictionary keys and values can be only integers.\n",
    "dict2={1:5, 2:6}"
   ]
  },
  {
   "cell_type": "code",
   "execution_count": 3,
   "id": "2d5e34a9",
   "metadata": {},
   "outputs": [],
   "source": [
    "# In Dictionary keys can be strings and vales can be integers.\n",
    "dict3={'red':1 , 'yellow':2}"
   ]
  },
  {
   "cell_type": "code",
   "execution_count": 4,
   "id": "1e6bc419",
   "metadata": {},
   "outputs": [],
   "source": [
    "# In Dictionary keys can be integers and vales can be string.\n",
    "dict4={1:'red', 2:\"yellow\"}"
   ]
  },
  {
   "cell_type": "code",
   "execution_count": 5,
   "id": "fec2d07a",
   "metadata": {},
   "outputs": [
    {
     "data": {
      "text/plain": [
       "3"
      ]
     },
     "execution_count": 5,
     "metadata": {},
     "output_type": "execute_result"
    }
   ],
   "source": [
    "#using len fn we can get the length of dictionary.\n",
    "len(dict1)"
   ]
  },
  {
   "cell_type": "code",
   "execution_count": 6,
   "id": "f40af653",
   "metadata": {},
   "outputs": [
    {
     "data": {
      "text/plain": [
       "'Red'"
      ]
     },
     "execution_count": 6,
     "metadata": {},
     "output_type": "execute_result"
    }
   ],
   "source": [
    "# we can only ectract or slicing 1 element .\n",
    "dict1['Apple']"
   ]
  },
  {
   "cell_type": "code",
   "execution_count": 7,
   "id": "c7ed9269",
   "metadata": {},
   "outputs": [
    {
     "data": {
      "text/plain": [
       "1"
      ]
     },
     "execution_count": 7,
     "metadata": {},
     "output_type": "execute_result"
    }
   ],
   "source": [
    "# we can only ectract or slicing 1 element .\n",
    "dict3['red']"
   ]
  },
  {
   "cell_type": "code",
   "execution_count": 8,
   "id": "d57f9635",
   "metadata": {},
   "outputs": [
    {
     "data": {
      "text/plain": [
       "{'Banana': 'Yellow', 'Grapes': 'Green'}"
      ]
     },
     "execution_count": 8,
     "metadata": {},
     "output_type": "execute_result"
    }
   ],
   "source": [
    "#using delete fn we can delete elements or pairs.\n",
    "del dict1['Apple']\n",
    "dict1"
   ]
  },
  {
   "cell_type": "code",
   "execution_count": 14,
   "id": "3c28906a",
   "metadata": {},
   "outputs": [
    {
     "ename": "TypeError",
     "evalue": "unsupported operand type(s) for +: 'dict' and 'dict'",
     "output_type": "error",
     "traceback": [
      "\u001b[1;31m---------------------------------------------------------------------------\u001b[0m",
      "\u001b[1;31mTypeError\u001b[0m                                 Traceback (most recent call last)",
      "\u001b[1;32m<ipython-input-14-4f9e1aba3bd3>\u001b[0m in \u001b[0;36m<module>\u001b[1;34m\u001b[0m\n\u001b[0;32m      1\u001b[0m \u001b[1;31m# dictionary does not support addition operation\u001b[0m\u001b[1;33m\u001b[0m\u001b[1;33m\u001b[0m\u001b[1;33m\u001b[0m\u001b[0m\n\u001b[1;32m----> 2\u001b[1;33m \u001b[0mdict1\u001b[0m\u001b[1;33m+\u001b[0m\u001b[0mdict2\u001b[0m\u001b[1;33m\u001b[0m\u001b[1;33m\u001b[0m\u001b[0m\n\u001b[0m",
      "\u001b[1;31mTypeError\u001b[0m: unsupported operand type(s) for +: 'dict' and 'dict'"
     ]
    }
   ],
   "source": [
    "# dictionary does not support addition operation\n",
    "dict1+dict2"
   ]
  },
  {
   "cell_type": "code",
   "execution_count": null,
   "id": "21ad4dfb",
   "metadata": {},
   "outputs": [],
   "source": [
    "# we can add pairs in dictonary\n",
    "dict1['apple']='red'\n",
    "dict1"
   ]
  },
  {
   "cell_type": "markdown",
   "id": "a60a291e",
   "metadata": {},
   "source": [
    "# Thank you"
   ]
  }
 ],
 "metadata": {
  "kernelspec": {
   "display_name": "Python 3",
   "language": "python",
   "name": "python3"
  },
  "language_info": {
   "codemirror_mode": {
    "name": "ipython",
    "version": 3
   },
   "file_extension": ".py",
   "mimetype": "text/x-python",
   "name": "python",
   "nbconvert_exporter": "python",
   "pygments_lexer": "ipython3",
   "version": "3.8.8"
  }
 },
 "nbformat": 4,
 "nbformat_minor": 5
}
