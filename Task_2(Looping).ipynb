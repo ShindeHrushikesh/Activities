{
 "cells": [
  {
   "cell_type": "markdown",
   "id": "da95a74e",
   "metadata": {},
   "source": [
    "# If Else statment"
   ]
  },
  {
   "cell_type": "markdown",
   "id": "2dc0eeed",
   "metadata": {},
   "source": [
    "In if and else statment used to run body of any condition using if statment, if given condition is true then the code will run, and if condition is false else code will run.\n",
    "\n",
    "there is also one keyword elif this is used if previous condition is not true then we give elif as try this another one."
   ]
  },
  {
   "cell_type": "code",
   "execution_count": 1,
   "id": "71712c80",
   "metadata": {},
   "outputs": [
    {
     "name": "stdout",
     "output_type": "stream",
     "text": [
      "a is greater than b\n"
     ]
    }
   ],
   "source": [
    "#here is if else loop for checking which no is greater.\n",
    "a = 80\n",
    "b = 40\n",
    "if b > a:\n",
    "    print(\"b is greater than a\")\n",
    "elif a == b:\n",
    "    print(\"a and b are equal\")\n",
    "else :\n",
    "    print(\"a is greater than b\")"
   ]
  },
  {
   "cell_type": "code",
   "execution_count": 2,
   "id": "df95b614",
   "metadata": {},
   "outputs": [
    {
     "name": "stdout",
     "output_type": "stream",
     "text": [
      "a=20\n",
      "b=15\n",
      "a is greater than b\n"
     ]
    }
   ],
   "source": [
    "#here using input fn we made a loop of if and else statment.\n",
    "a = int(input('a='))\n",
    "b = int(input('b='))\n",
    "if b > a:\n",
    "    print(\"b is greater than a\")\n",
    "elif a == b:\n",
    "    print(\"a and b are equal\")\n",
    "else :\n",
    "    print(\"a is greater than b\")"
   ]
  },
  {
   "cell_type": "code",
   "execution_count": 3,
   "id": "c3c9afb4",
   "metadata": {},
   "outputs": [
    {
     "name": "stdout",
     "output_type": "stream",
     "text": [
      "a=13\n",
      "b=24\n",
      "b is greater than a\n"
     ]
    }
   ],
   "source": [
    "#we can use if else statment in single line.\n",
    "a=input('a=')\n",
    "b=input('b=')\n",
    "print(\"a is greater than b\") if a > b else print(\"b is greater than a\")"
   ]
  },
  {
   "cell_type": "markdown",
   "id": "a1e9d48c",
   "metadata": {},
   "source": [
    "### nested if "
   ]
  },
  {
   "cell_type": "markdown",
   "id": "4e668b21",
   "metadata": {},
   "source": [
    "in this we use if statment in if .\n",
    "\n",
    "like if the first condition true then go for loop.\n"
   ]
  },
  {
   "cell_type": "code",
   "execution_count": 4,
   "id": "85f34aaa",
   "metadata": {},
   "outputs": [
    {
     "name": "stdout",
     "output_type": "stream",
     "text": [
      "Above ten,\n",
      "and also above 20!\n"
     ]
    }
   ],
   "source": [
    "x = 41\n",
    "\n",
    "if x > 10:\n",
    "    print(\"Above ten,\")\n",
    "    if x > 20:\n",
    "         print(\"and also above 20!\")\n",
    "    else:\n",
    "         print(\"but not above 20.\")"
   ]
  },
  {
   "cell_type": "markdown",
   "id": "4bb1e3fa",
   "metadata": {},
   "source": [
    "# While loop"
   ]
  },
  {
   "cell_type": "markdown",
   "id": "88110e04",
   "metadata": {},
   "source": [
    "In while loop set of instruction is performed until the True condition is satisfy.\n",
    "\n",
    "In while loop we need to define Initial (i) first and we give the condition for stoping the loop."
   ]
  },
  {
   "cell_type": "code",
   "execution_count": 3,
   "id": "a2fe49ae",
   "metadata": {},
   "outputs": [
    {
     "name": "stdout",
     "output_type": "stream",
     "text": [
      "5\n",
      "0\n",
      "1\n",
      "4\n",
      "9\n",
      "16\n"
     ]
    }
   ],
   "source": [
    "# while loop for printing numbers less than 10.\n",
    "i=0\n",
    "while i<10:\n",
    "    print(i)\n",
    "    i=i+1"
   ]
  },
  {
   "cell_type": "code",
   "execution_count": 6,
   "id": "ea33d106",
   "metadata": {},
   "outputs": [
    {
     "name": "stdout",
     "output_type": "stream",
     "text": [
      "0\n",
      "1\n",
      "2\n",
      "3\n",
      "4\n",
      "5\n"
     ]
    }
   ],
   "source": [
    "i=0\n",
    "while i<6:\n",
    "    print(i)\n",
    "    i=i+1"
   ]
  },
  {
   "cell_type": "markdown",
   "id": "7daf802c",
   "metadata": {},
   "source": [
    "### Nested while loop"
   ]
  },
  {
   "cell_type": "code",
   "execution_count": 7,
   "id": "5bf112fe",
   "metadata": {},
   "outputs": [
    {
     "name": "stdout",
     "output_type": "stream",
     "text": [
      "1\n",
      "4\n",
      "9\n",
      "16\n",
      "25\n"
     ]
    }
   ],
   "source": [
    "#use of nested while loop \n",
    "x=0\n",
    "y=0\n",
    "while x<5:\n",
    "    while y<5:\n",
    "        x=x+1\n",
    "        y=y+1\n",
    "        print(x*y)  "
   ]
  },
  {
   "cell_type": "code",
   "execution_count": 8,
   "id": "69d8d143",
   "metadata": {},
   "outputs": [
    {
     "name": "stdout",
     "output_type": "stream",
     "text": [
      "2\n",
      "4\n",
      "6\n",
      "8\n",
      "10\n"
     ]
    }
   ],
   "source": [
    "#use of nested while loop\n",
    "x=0\n",
    "y=0\n",
    "while x<5:\n",
    "    while y<5:\n",
    "        x=x+1\n",
    "        y=y+1\n",
    "        print(x+y)  "
   ]
  },
  {
   "cell_type": "markdown",
   "id": "7d71ccbb",
   "metadata": {},
   "source": [
    "### While loop with if"
   ]
  },
  {
   "cell_type": "code",
   "execution_count": 9,
   "id": "78ef2210",
   "metadata": {},
   "outputs": [
    {
     "name": "stdout",
     "output_type": "stream",
     "text": [
      "1 is odd number\n",
      "2 is even number\n",
      "3 is odd number\n",
      "4 is even number\n",
      "5 is odd number\n",
      "6 is even number\n",
      "7 is odd number\n",
      "8 is even number\n",
      "9 is odd number\n",
      "10 is even number\n"
     ]
    }
   ],
   "source": [
    "#use of if stament with while loop\n",
    "i=1\n",
    "while i <= 10:\n",
    "    if i % 2 == 0:\n",
    "        print(i,'is even number')\n",
    "    else:print(i,'is odd number')\n",
    "    i=i+1"
   ]
  },
  {
   "cell_type": "code",
   "execution_count": 10,
   "id": "0ac16eb7",
   "metadata": {},
   "outputs": [
    {
     "name": "stdout",
     "output_type": "stream",
     "text": [
      "1 is odd number\n",
      "2 is even number\n",
      "3 is odd number\n",
      "4 is even number\n",
      "5 is odd number\n",
      "6 is even number\n",
      "7 is odd number\n",
      "8 is even number\n",
      "9 is odd number\n",
      "10 is even number\n"
     ]
    }
   ],
   "source": [
    "#use of if stament with while loop\n",
    "i=1\n",
    "while i <= 10:\n",
    "    if i % 2 == 0:\n",
    "        print(i,'is even number')\n",
    "    else:print(i,'is odd number')\n",
    "    i=i+1"
   ]
  },
  {
   "cell_type": "markdown",
   "id": "759641df",
   "metadata": {},
   "source": [
    "### While loop with else "
   ]
  },
  {
   "cell_type": "code",
   "execution_count": 11,
   "id": "7e035f88",
   "metadata": {},
   "outputs": [
    {
     "name": "stdout",
     "output_type": "stream",
     "text": [
      "0\n",
      "1\n",
      "2\n",
      "3\n",
      "4\n",
      "5\n",
      "6\n",
      "i is no longer less than 6\n"
     ]
    }
   ],
   "source": [
    "# else is used for when condition is satisfy and in the end we want to type a messege\n",
    "i = 0\n",
    "while i <= 6:\n",
    "    print(i)\n",
    "    i=i+1\n",
    "else:\n",
    "    print(\"i is no longer less than 6\")"
   ]
  },
  {
   "cell_type": "markdown",
   "id": "b7106d58",
   "metadata": {},
   "source": [
    "### While loop with break, continue and pass keywords"
   ]
  },
  {
   "cell_type": "code",
   "execution_count": 12,
   "id": "fbf4290d",
   "metadata": {},
   "outputs": [
    {
     "name": "stdout",
     "output_type": "stream",
     "text": [
      "1\n",
      "2\n",
      "3\n",
      "4\n",
      "5\n"
     ]
    }
   ],
   "source": [
    "# use of break keyword\n",
    "i=0\n",
    "while i<10:\n",
    "    i=i+1\n",
    "    print(i)\n",
    "    if i==5:              # given condition satisfy\n",
    "        break             # break the loop"
   ]
  },
  {
   "cell_type": "code",
   "execution_count": 13,
   "id": "dd3a6977",
   "metadata": {},
   "outputs": [
    {
     "name": "stdout",
     "output_type": "stream",
     "text": [
      "1\n",
      "2\n",
      "4\n",
      "5\n",
      "6\n"
     ]
    }
   ],
   "source": [
    "i = 0\n",
    "while i < 6:\n",
    "    i += 1\n",
    "    if i == 3:\n",
    "        continue          # here note that the no 3 is missing\n",
    "    print(i)\n"
   ]
  },
  {
   "cell_type": "markdown",
   "id": "cdb52ff7",
   "metadata": {},
   "source": [
    "Pass is not much used it dose not effect on loop"
   ]
  },
  {
   "cell_type": "markdown",
   "id": "de627a0d",
   "metadata": {},
   "source": [
    "# For loop"
   ]
  },
  {
   "cell_type": "markdown",
   "id": "387785be",
   "metadata": {},
   "source": [
    "In for loop we gives last point to stop loop\n",
    "\n",
    "we use for loop to print "
   ]
  },
  {
   "cell_type": "code",
   "execution_count": 14,
   "id": "118deacf",
   "metadata": {},
   "outputs": [
    {
     "name": "stdout",
     "output_type": "stream",
     "text": [
      "1\n",
      "2\n",
      "3\n",
      "4\n",
      "5\n",
      "6\n",
      "7\n",
      "8\n",
      "9\n",
      "10\n"
     ]
    }
   ],
   "source": [
    "# for loop to print the no of given range (starting pint , ending point)\n",
    "for i in range(1,11):\n",
    "    print(i)"
   ]
  },
  {
   "cell_type": "code",
   "execution_count": 15,
   "id": "d872959f",
   "metadata": {},
   "outputs": [
    {
     "name": "stdout",
     "output_type": "stream",
     "text": [
      "0\n",
      "2\n",
      "4\n",
      "6\n",
      "8\n",
      "10\n"
     ]
    }
   ],
   "source": [
    "# for loop to print the no of given range (starting pint , ending point , differance)\n",
    "for i in range(0,11,2):\n",
    "    print(i)"
   ]
  },
  {
   "cell_type": "code",
   "execution_count": 16,
   "id": "a641e29e",
   "metadata": {},
   "outputs": [
    {
     "name": "stdout",
     "output_type": "stream",
     "text": [
      "I am Hrushi\n",
      "I am Amar\n",
      "I am Avinash\n",
      "I am Omkar\n"
     ]
    }
   ],
   "source": [
    "#using for loop adding suffix for elements of list \n",
    "list1=['Hrushi','Amar','Avinash','Omkar']\n",
    "for i in list1:\n",
    "    print('I am',i)"
   ]
  },
  {
   "cell_type": "markdown",
   "id": "ed264920",
   "metadata": {},
   "source": [
    "### For loop in single line command"
   ]
  },
  {
   "cell_type": "code",
   "execution_count": 17,
   "id": "7af74ea6",
   "metadata": {},
   "outputs": [
    {
     "name": "stdout",
     "output_type": "stream",
     "text": [
      "odd= [1, 3, 5, 7, 9, 11, 13, 15, 17, 19, 21, 23, 25, 27, 29, 31, 33, 35, 37, 39, 41, 43, 45, 47, 49] \n",
      " even= [2, 4, 6, 8, 10, 12, 14, 16, 18, 20, 22, 24, 26, 28, 30, 32, 34, 36, 38, 40, 42, 44, 46, 48, 50]\n"
     ]
    }
   ],
   "source": [
    "#using for loop we print odd no and even no from 1 to 50.\n",
    "odd=[i for i in range(1,51) if i%2!=0]\n",
    "even=[i for i in range(1,51) if i%2==0]\n",
    "print('odd=',odd,'\\n','even=',even)"
   ]
  },
  {
   "cell_type": "markdown",
   "id": "676e2865",
   "metadata": {},
   "source": [
    "### for loop with else"
   ]
  },
  {
   "cell_type": "code",
   "execution_count": 18,
   "id": "57e023d2",
   "metadata": {},
   "outputs": [
    {
     "name": "stdout",
     "output_type": "stream",
     "text": [
      "0\n",
      "1\n",
      "2\n",
      "3\n",
      "4\n",
      "The End\n"
     ]
    }
   ],
   "source": [
    "# we use else statment for giving ending messege\n",
    "for x in range(0,5):\n",
    "    print(x)\n",
    "else:\n",
    "    print('The End')"
   ]
  },
  {
   "cell_type": "markdown",
   "id": "1b3104ad",
   "metadata": {},
   "source": [
    "### for loop with if"
   ]
  },
  {
   "cell_type": "code",
   "execution_count": 19,
   "id": "070e59a6",
   "metadata": {},
   "outputs": [
    {
     "name": "stdout",
     "output_type": "stream",
     "text": [
      "2\n",
      "4\n",
      "6\n",
      "8\n"
     ]
    }
   ],
   "source": [
    "# we use if in for to print only prticular element of list or range\n",
    "for i in range(1,10):\n",
    "    if i % 2 ==0:\n",
    "        print(i)"
   ]
  },
  {
   "cell_type": "markdown",
   "id": "37e909c2",
   "metadata": {},
   "source": [
    "### for loop with break , continue and pass"
   ]
  },
  {
   "cell_type": "code",
   "execution_count": 20,
   "id": "97408873",
   "metadata": {},
   "outputs": [
    {
     "name": "stdout",
     "output_type": "stream",
     "text": [
      "apple\n",
      "banana\n"
     ]
    }
   ],
   "source": [
    "#use of break is to stop the loop at point \n",
    "fruits = [\"apple\", \"banana\", \"cherry\"]\n",
    "for x in fruits:\n",
    "    print(x)\n",
    "    if x == \"banana\":          # loop will stop when banana will get\n",
    "        break"
   ]
  },
  {
   "cell_type": "code",
   "execution_count": 21,
   "id": "aef3f370",
   "metadata": {},
   "outputs": [
    {
     "name": "stdout",
     "output_type": "stream",
     "text": [
      "apple\n"
     ]
    }
   ],
   "source": [
    "#use of break is to stop the loop at point\n",
    "fruits = [\"apple\", \"banana\", \"cherry\"]\n",
    "for x in fruits:\n",
    "    if x == \"banana\":\n",
    "        break                     # here loop will stop before banana \n",
    "    print(x)"
   ]
  },
  {
   "cell_type": "code",
   "execution_count": 22,
   "id": "769ff3d6",
   "metadata": {},
   "outputs": [
    {
     "name": "stdout",
     "output_type": "stream",
     "text": [
      "apple\n",
      "cherry\n"
     ]
    }
   ],
   "source": [
    "#using continue for loop\n",
    "fruits = [\"apple\", \"banana\", \"cherry\"]\n",
    "for x in fruits:\n",
    "    if x == \"banana\":                       # here note that the banana is missing causwe stop the loop when banana is arrive\n",
    "        continue                            #  and then continue with remaining\n",
    "    print(x)"
   ]
  },
  {
   "cell_type": "markdown",
   "id": "c2e0db69",
   "metadata": {},
   "source": [
    "### nested for loop"
   ]
  },
  {
   "cell_type": "code",
   "execution_count": 23,
   "id": "98fbcb23",
   "metadata": {},
   "outputs": [
    {
     "name": "stdout",
     "output_type": "stream",
     "text": [
      "red apple\n",
      "red banana\n",
      "red cherry\n",
      "big apple\n",
      "big banana\n",
      "big cherry\n",
      "tasty apple\n",
      "tasty banana\n",
      "tasty cherry\n"
     ]
    }
   ],
   "source": [
    "colour = [\"red\", \"big\", \"tasty\"]\n",
    "fruits = [\"apple\", \"banana\", \"cherry\"]\n",
    "\n",
    "for i in colour:\n",
    "    for j in fruits:\n",
    "        print(i +' '+ j)"
   ]
  },
  {
   "cell_type": "markdown",
   "id": "2ef308cf",
   "metadata": {},
   "source": [
    "# function"
   ]
  },
  {
   "cell_type": "markdown",
   "id": "12295ca6",
   "metadata": {},
   "source": [
    "To use function we need the keyword 'def' using this we can define any function"
   ]
  },
  {
   "cell_type": "code",
   "execution_count": 24,
   "id": "5be722d9",
   "metadata": {},
   "outputs": [],
   "source": [
    "# user define function for finding square of numbers \n",
    "def square(x):\n",
    "    print(x*x)"
   ]
  },
  {
   "cell_type": "code",
   "execution_count": 25,
   "id": "075930bd",
   "metadata": {},
   "outputs": [
    {
     "name": "stdout",
     "output_type": "stream",
     "text": [
      "64\n"
     ]
    }
   ],
   "source": [
    "square(8)"
   ]
  },
  {
   "cell_type": "code",
   "execution_count": 26,
   "id": "bd571075",
   "metadata": {},
   "outputs": [],
   "source": [
    "# user define function for factorial\n",
    "def fact(num):\n",
    "    fact=1\n",
    "    for i in range(1,num+1):\n",
    "        fact=fact*i\n",
    "    print('The Factorial is :',fact)"
   ]
  },
  {
   "cell_type": "code",
   "execution_count": 14,
   "id": "f157a33b",
   "metadata": {},
   "outputs": [],
   "source": [
    "def facto(num):\n",
    "    facto=1\n",
    "    for i in range (1,num+1):\n",
    "        facto=facto*i\n",
    "    print('factorial of '+str(num)+' is:',facto)"
   ]
  },
  {
   "cell_type": "code",
   "execution_count": 19,
   "id": "2d214a72",
   "metadata": {},
   "outputs": [],
   "source": [
    "def med (num):\n",
    "    if len(num)%2==0:\n",
    "        print(len(num)/2)\n",
    "    else:print((len(num)+1)/2)"
   ]
  },
  {
   "cell_type": "code",
   "execution_count": 20,
   "id": "ebb62649",
   "metadata": {},
   "outputs": [],
   "source": [
    "a=[2,3,5,4,3,6,7,8,9]"
   ]
  },
  {
   "cell_type": "code",
   "execution_count": 21,
   "id": "f5536281",
   "metadata": {},
   "outputs": [
    {
     "name": "stdout",
     "output_type": "stream",
     "text": [
      "5.0\n"
     ]
    }
   ],
   "source": [
    "med(a)"
   ]
  },
  {
   "cell_type": "code",
   "execution_count": 15,
   "id": "908469ef",
   "metadata": {},
   "outputs": [
    {
     "name": "stdout",
     "output_type": "stream",
     "text": [
      "factorial of 4 is: 24\n"
     ]
    }
   ],
   "source": [
    "facto(4)"
   ]
  },
  {
   "cell_type": "markdown",
   "id": "62f4d5a4",
   "metadata": {},
   "source": [
    "# Date and time"
   ]
  },
  {
   "cell_type": "markdown",
   "id": "8a22fb98",
   "metadata": {},
   "source": [
    "for date and time we need to import the datetime module"
   ]
  },
  {
   "cell_type": "code",
   "execution_count": 28,
   "id": "265088fb",
   "metadata": {},
   "outputs": [],
   "source": [
    "import datetime as dt"
   ]
  },
  {
   "cell_type": "code",
   "execution_count": 29,
   "id": "452f071e",
   "metadata": {},
   "outputs": [
    {
     "name": "stdout",
     "output_type": "stream",
     "text": [
      "2022-01-04 16:27:54.021240\n"
     ]
    }
   ],
   "source": [
    "x=dt.datetime.now()\n",
    "print(x)"
   ]
  },
  {
   "cell_type": "code",
   "execution_count": 30,
   "id": "a32ec3e6",
   "metadata": {},
   "outputs": [
    {
     "name": "stdout",
     "output_type": "stream",
     "text": [
      "2022-01-04 16:27:54.040890\n"
     ]
    }
   ],
   "source": [
    "x=dt.datetime.today()\n",
    "print(x)"
   ]
  },
  {
   "cell_type": "markdown",
   "id": "57caf3d9",
   "metadata": {},
   "source": [
    "# class , oop and inheritance"
   ]
  },
  {
   "cell_type": "code",
   "execution_count": 31,
   "id": "3bd9f12f",
   "metadata": {},
   "outputs": [],
   "source": [
    "# here using class fn we are creating a class \n",
    "class Person:\n",
    "    def __init__(self, name, age):\n",
    "        self.name = name\n",
    "        self.age = age\n",
    "\n",
    "p1 = Person(\"Hrushi\", 21)"
   ]
  },
  {
   "cell_type": "code",
   "execution_count": 32,
   "id": "dc2c88b1",
   "metadata": {},
   "outputs": [
    {
     "name": "stdout",
     "output_type": "stream",
     "text": [
      "Hrushi\n",
      "21\n"
     ]
    }
   ],
   "source": [
    "print(p1.name)\n",
    "print(p1.age)"
   ]
  },
  {
   "cell_type": "code",
   "execution_count": 33,
   "id": "f038a1c6",
   "metadata": {},
   "outputs": [
    {
     "name": "stdout",
     "output_type": "stream",
     "text": [
      "Hello my name is Hrushi\n",
      "i am 21 year old.\n"
     ]
    }
   ],
   "source": [
    "#Inserting a function that prints a greeting, and execute it on the p1 object:\n",
    "class Person:\n",
    "    def __init__(self, name, age):\n",
    "        self.name = name\n",
    "        self.age = age\n",
    "\n",
    "    def myname(self):\n",
    "        print(\"Hello my name is \" + self.name)\n",
    "    \n",
    "    def myage(self):\n",
    "        print('i am '+ str(self.age) +' year old.')\n",
    "p1 = Person(\"Hrushi\", 21)\n",
    "p1.myname()\n",
    "p1.myage()"
   ]
  },
  {
   "cell_type": "code",
   "execution_count": null,
   "id": "3b6c886a",
   "metadata": {},
   "outputs": [],
   "source": []
  }
 ],
 "metadata": {
  "kernelspec": {
   "display_name": "Python 3",
   "language": "python",
   "name": "python3"
  },
  "language_info": {
   "codemirror_mode": {
    "name": "ipython",
    "version": 3
   },
   "file_extension": ".py",
   "mimetype": "text/x-python",
   "name": "python",
   "nbconvert_exporter": "python",
   "pygments_lexer": "ipython3",
   "version": "3.8.8"
  }
 },
 "nbformat": 4,
 "nbformat_minor": 5
}
