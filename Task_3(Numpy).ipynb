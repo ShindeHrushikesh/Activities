{
 "cells": [
  {
   "cell_type": "code",
   "execution_count": 1,
   "id": "701b4052",
   "metadata": {},
   "outputs": [
    {
     "name": "stdout",
     "output_type": "stream",
     "text": [
      "Requirement already satisfied: numpy in c:\\programdata\\anaconda3\\lib\\site-packages (1.20.1)\n"
     ]
    }
   ],
   "source": [
    "!pip install numpy"
   ]
  },
  {
   "cell_type": "code",
   "execution_count": 2,
   "id": "24b7a4b7",
   "metadata": {},
   "outputs": [],
   "source": [
    "import numpy as np"
   ]
  },
  {
   "cell_type": "markdown",
   "id": "44ee58cf",
   "metadata": {},
   "source": [
    "# creating numpy array"
   ]
  },
  {
   "cell_type": "markdown",
   "id": "6080b675",
   "metadata": {},
   "source": [
    "### single dimensional array"
   ]
  },
  {
   "cell_type": "code",
   "execution_count": 3,
   "id": "8c20c9e1",
   "metadata": {},
   "outputs": [],
   "source": [
    "n1=np.array([10,20,30,40,50])"
   ]
  },
  {
   "cell_type": "code",
   "execution_count": 4,
   "id": "f8db89dc",
   "metadata": {},
   "outputs": [
    {
     "data": {
      "text/plain": [
       "array([10, 20, 30, 40, 50])"
      ]
     },
     "execution_count": 4,
     "metadata": {},
     "output_type": "execute_result"
    }
   ],
   "source": [
    "n1"
   ]
  },
  {
   "cell_type": "code",
   "execution_count": 5,
   "id": "d0bd5cdb",
   "metadata": {},
   "outputs": [
    {
     "data": {
      "text/plain": [
       "numpy.ndarray"
      ]
     },
     "execution_count": 5,
     "metadata": {},
     "output_type": "execute_result"
    }
   ],
   "source": [
    "type(n1)"
   ]
  },
  {
   "cell_type": "markdown",
   "id": "f883894f",
   "metadata": {},
   "source": [
    "### multi dimensional array"
   ]
  },
  {
   "cell_type": "code",
   "execution_count": 6,
   "id": "0880123a",
   "metadata": {},
   "outputs": [],
   "source": [
    "n2=np.array([[10,20,30,40],[50,60,70,80]])"
   ]
  },
  {
   "cell_type": "code",
   "execution_count": 7,
   "id": "8900c727",
   "metadata": {},
   "outputs": [
    {
     "data": {
      "text/plain": [
       "array([[10, 20, 30, 40],\n",
       "       [50, 60, 70, 80]])"
      ]
     },
     "execution_count": 7,
     "metadata": {},
     "output_type": "execute_result"
    }
   ],
   "source": [
    "n2"
   ]
  },
  {
   "cell_type": "code",
   "execution_count": 8,
   "id": "ad5f8100",
   "metadata": {},
   "outputs": [
    {
     "data": {
      "text/plain": [
       "numpy.ndarray"
      ]
     },
     "execution_count": 8,
     "metadata": {},
     "output_type": "execute_result"
    }
   ],
   "source": [
    "type(n2)"
   ]
  },
  {
   "cell_type": "markdown",
   "id": "a12cfd63",
   "metadata": {},
   "source": [
    "# initializing numpy array"
   ]
  },
  {
   "cell_type": "markdown",
   "id": "c97a8bf0",
   "metadata": {},
   "source": [
    "### initializing numpy array with zeros"
   ]
  },
  {
   "cell_type": "code",
   "execution_count": 9,
   "id": "5c769862",
   "metadata": {},
   "outputs": [],
   "source": [
    "n1=np.zeros((1,2))"
   ]
  },
  {
   "cell_type": "code",
   "execution_count": 10,
   "id": "65a66cd7",
   "metadata": {},
   "outputs": [
    {
     "data": {
      "text/plain": [
       "array([[0., 0.]])"
      ]
     },
     "execution_count": 10,
     "metadata": {},
     "output_type": "execute_result"
    }
   ],
   "source": [
    "n1"
   ]
  },
  {
   "cell_type": "code",
   "execution_count": 11,
   "id": "4da891d0",
   "metadata": {},
   "outputs": [],
   "source": [
    "n1=np.zeros((5,5))"
   ]
  },
  {
   "cell_type": "code",
   "execution_count": 12,
   "id": "60b49a13",
   "metadata": {},
   "outputs": [
    {
     "data": {
      "text/plain": [
       "array([[0., 0., 0., 0., 0.],\n",
       "       [0., 0., 0., 0., 0.],\n",
       "       [0., 0., 0., 0., 0.],\n",
       "       [0., 0., 0., 0., 0.],\n",
       "       [0., 0., 0., 0., 0.]])"
      ]
     },
     "execution_count": 12,
     "metadata": {},
     "output_type": "execute_result"
    }
   ],
   "source": [
    "n1"
   ]
  },
  {
   "cell_type": "code",
   "execution_count": 13,
   "id": "cc104622",
   "metadata": {
    "scrolled": true
   },
   "outputs": [
    {
     "data": {
      "text/plain": [
       "numpy.ndarray"
      ]
     },
     "execution_count": 13,
     "metadata": {},
     "output_type": "execute_result"
    }
   ],
   "source": [
    "type(n1)"
   ]
  },
  {
   "cell_type": "markdown",
   "id": "759ebcee",
   "metadata": {},
   "source": [
    "### initializing numpy array with same numbers "
   ]
  },
  {
   "cell_type": "code",
   "execution_count": 14,
   "id": "141c3111",
   "metadata": {},
   "outputs": [],
   "source": [
    "n1=np.full((3,3),10)"
   ]
  },
  {
   "cell_type": "code",
   "execution_count": 15,
   "id": "df89841a",
   "metadata": {},
   "outputs": [
    {
     "data": {
      "text/plain": [
       "array([[10, 10, 10],\n",
       "       [10, 10, 10],\n",
       "       [10, 10, 10]])"
      ]
     },
     "execution_count": 15,
     "metadata": {},
     "output_type": "execute_result"
    }
   ],
   "source": [
    "n1"
   ]
  },
  {
   "cell_type": "code",
   "execution_count": 16,
   "id": "c1dee71f",
   "metadata": {},
   "outputs": [],
   "source": [
    "n1=np.full((3,3),12)"
   ]
  },
  {
   "cell_type": "code",
   "execution_count": 17,
   "id": "f7e47fad",
   "metadata": {},
   "outputs": [
    {
     "data": {
      "text/plain": [
       "array([[12, 12, 12],\n",
       "       [12, 12, 12],\n",
       "       [12, 12, 12]])"
      ]
     },
     "execution_count": 17,
     "metadata": {},
     "output_type": "execute_result"
    }
   ],
   "source": [
    "n1"
   ]
  },
  {
   "cell_type": "code",
   "execution_count": 18,
   "id": "30c918e1",
   "metadata": {},
   "outputs": [],
   "source": [
    "n1=np.full((4,10),10)"
   ]
  },
  {
   "cell_type": "code",
   "execution_count": 19,
   "id": "9f986f78",
   "metadata": {},
   "outputs": [
    {
     "data": {
      "text/plain": [
       "array([[10, 10, 10, 10, 10, 10, 10, 10, 10, 10],\n",
       "       [10, 10, 10, 10, 10, 10, 10, 10, 10, 10],\n",
       "       [10, 10, 10, 10, 10, 10, 10, 10, 10, 10],\n",
       "       [10, 10, 10, 10, 10, 10, 10, 10, 10, 10]])"
      ]
     },
     "execution_count": 19,
     "metadata": {},
     "output_type": "execute_result"
    }
   ],
   "source": [
    "n1"
   ]
  },
  {
   "cell_type": "markdown",
   "id": "18674add",
   "metadata": {},
   "source": [
    "###  initializing numpy array with arange"
   ]
  },
  {
   "cell_type": "code",
   "execution_count": 20,
   "id": "e7c170c0",
   "metadata": {},
   "outputs": [],
   "source": [
    "n1=np.arange(10,99)"
   ]
  },
  {
   "cell_type": "code",
   "execution_count": 21,
   "id": "87f50ea3",
   "metadata": {},
   "outputs": [
    {
     "data": {
      "text/plain": [
       "array([10, 11, 12, 13, 14, 15, 16, 17, 18, 19, 20, 21, 22, 23, 24, 25, 26,\n",
       "       27, 28, 29, 30, 31, 32, 33, 34, 35, 36, 37, 38, 39, 40, 41, 42, 43,\n",
       "       44, 45, 46, 47, 48, 49, 50, 51, 52, 53, 54, 55, 56, 57, 58, 59, 60,\n",
       "       61, 62, 63, 64, 65, 66, 67, 68, 69, 70, 71, 72, 73, 74, 75, 76, 77,\n",
       "       78, 79, 80, 81, 82, 83, 84, 85, 86, 87, 88, 89, 90, 91, 92, 93, 94,\n",
       "       95, 96, 97, 98])"
      ]
     },
     "execution_count": 21,
     "metadata": {},
     "output_type": "execute_result"
    }
   ],
   "source": [
    "n1"
   ]
  },
  {
   "cell_type": "markdown",
   "id": "b0aadcd2",
   "metadata": {},
   "source": [
    "##### with gap "
   ]
  },
  {
   "cell_type": "code",
   "execution_count": 22,
   "id": "903f6399",
   "metadata": {},
   "outputs": [],
   "source": [
    "n1=np.arange(10,50,5)"
   ]
  },
  {
   "cell_type": "code",
   "execution_count": 23,
   "id": "d20f27c3",
   "metadata": {},
   "outputs": [
    {
     "data": {
      "text/plain": [
       "array([10, 15, 20, 25, 30, 35, 40, 45])"
      ]
     },
     "execution_count": 23,
     "metadata": {},
     "output_type": "execute_result"
    }
   ],
   "source": [
    "n1"
   ]
  },
  {
   "cell_type": "markdown",
   "id": "a039e7fa",
   "metadata": {},
   "source": [
    "### initializing numpy array with random number"
   ]
  },
  {
   "cell_type": "code",
   "execution_count": 24,
   "id": "ca84617c",
   "metadata": {},
   "outputs": [],
   "source": [
    "n1=np.random.randint(1,100,5)"
   ]
  },
  {
   "cell_type": "code",
   "execution_count": 25,
   "id": "c4333bf8",
   "metadata": {},
   "outputs": [
    {
     "data": {
      "text/plain": [
       "array([44, 50, 70, 93, 12])"
      ]
     },
     "execution_count": 25,
     "metadata": {},
     "output_type": "execute_result"
    }
   ],
   "source": [
    "n1"
   ]
  },
  {
   "cell_type": "markdown",
   "id": "f6fe846e",
   "metadata": {},
   "source": [
    "# numpy shape"
   ]
  },
  {
   "cell_type": "code",
   "execution_count": 26,
   "id": "ee62d903",
   "metadata": {},
   "outputs": [],
   "source": [
    "n2=np.array([[10,20,30,40],[50,60,70,80]])"
   ]
  },
  {
   "cell_type": "code",
   "execution_count": 27,
   "id": "9fbe70b9",
   "metadata": {},
   "outputs": [
    {
     "data": {
      "text/plain": [
       "array([[10, 20, 30, 40],\n",
       "       [50, 60, 70, 80]])"
      ]
     },
     "execution_count": 27,
     "metadata": {},
     "output_type": "execute_result"
    }
   ],
   "source": [
    "n2"
   ]
  },
  {
   "cell_type": "code",
   "execution_count": 28,
   "id": "c8af9834",
   "metadata": {},
   "outputs": [
    {
     "data": {
      "text/plain": [
       "(2, 4)"
      ]
     },
     "execution_count": 28,
     "metadata": {},
     "output_type": "execute_result"
    }
   ],
   "source": [
    "n2.shape"
   ]
  },
  {
   "cell_type": "markdown",
   "id": "9c94f4c2",
   "metadata": {},
   "source": [
    "### change shape"
   ]
  },
  {
   "cell_type": "code",
   "execution_count": 29,
   "id": "fcb1c2f0",
   "metadata": {},
   "outputs": [],
   "source": [
    "n2.shape=(4,2)"
   ]
  },
  {
   "cell_type": "code",
   "execution_count": 30,
   "id": "95907ca2",
   "metadata": {},
   "outputs": [
    {
     "data": {
      "text/plain": [
       "array([[10, 20],\n",
       "       [30, 40],\n",
       "       [50, 60],\n",
       "       [70, 80]])"
      ]
     },
     "execution_count": 30,
     "metadata": {},
     "output_type": "execute_result"
    }
   ],
   "source": [
    "n2"
   ]
  },
  {
   "cell_type": "markdown",
   "id": "e429936e",
   "metadata": {},
   "source": [
    "# joining numpy arrays"
   ]
  },
  {
   "cell_type": "code",
   "execution_count": 31,
   "id": "38e5cc65",
   "metadata": {},
   "outputs": [],
   "source": [
    "n1=np.array([10,20,30,40,50])"
   ]
  },
  {
   "cell_type": "code",
   "execution_count": 32,
   "id": "c172d7bd",
   "metadata": {},
   "outputs": [],
   "source": [
    "n2=np.array([60,70,80,90,99])"
   ]
  },
  {
   "cell_type": "markdown",
   "id": "736639c6",
   "metadata": {},
   "source": [
    "### vertically join"
   ]
  },
  {
   "cell_type": "code",
   "execution_count": 33,
   "id": "5a3de720",
   "metadata": {},
   "outputs": [
    {
     "data": {
      "text/plain": [
       "array([[10, 20, 30, 40, 50],\n",
       "       [60, 70, 80, 90, 99]])"
      ]
     },
     "execution_count": 33,
     "metadata": {},
     "output_type": "execute_result"
    }
   ],
   "source": [
    "np.vstack((n1,n2))"
   ]
  },
  {
   "cell_type": "markdown",
   "id": "a1e210fd",
   "metadata": {},
   "source": [
    "### horizontaly join"
   ]
  },
  {
   "cell_type": "code",
   "execution_count": 34,
   "id": "0efef874",
   "metadata": {},
   "outputs": [
    {
     "data": {
      "text/plain": [
       "array([10, 20, 30, 40, 50, 60, 70, 80, 90, 99])"
      ]
     },
     "execution_count": 34,
     "metadata": {},
     "output_type": "execute_result"
    }
   ],
   "source": [
    "np.hstack((n1,n2))"
   ]
  },
  {
   "cell_type": "markdown",
   "id": "e4ed4368",
   "metadata": {},
   "source": [
    "###  column join"
   ]
  },
  {
   "cell_type": "code",
   "execution_count": 35,
   "id": "6d52a9de",
   "metadata": {},
   "outputs": [
    {
     "data": {
      "text/plain": [
       "array([[10, 60],\n",
       "       [20, 70],\n",
       "       [30, 80],\n",
       "       [40, 90],\n",
       "       [50, 99]])"
      ]
     },
     "execution_count": 35,
     "metadata": {},
     "output_type": "execute_result"
    }
   ],
   "source": [
    "np.column_stack((n1,n2))"
   ]
  },
  {
   "cell_type": "markdown",
   "id": "d39ef3b4",
   "metadata": {},
   "source": [
    "# numpy intersection & difference"
   ]
  },
  {
   "cell_type": "code",
   "execution_count": 36,
   "id": "2a2bdeba",
   "metadata": {},
   "outputs": [],
   "source": [
    "n1=np.array([10,20,30,40,50])"
   ]
  },
  {
   "cell_type": "code",
   "execution_count": 37,
   "id": "bc3babc8",
   "metadata": {},
   "outputs": [],
   "source": [
    "n2=np.array([10,25,62,40])"
   ]
  },
  {
   "cell_type": "code",
   "execution_count": 39,
   "id": "7265564d",
   "metadata": {},
   "outputs": [
    {
     "data": {
      "text/plain": [
       "array([20, 30, 50])"
      ]
     },
     "execution_count": 39,
     "metadata": {},
     "output_type": "execute_result"
    }
   ],
   "source": [
    "np.setdiff1d(n1,n2)"
   ]
  },
  {
   "cell_type": "code",
   "execution_count": 43,
   "id": "521a68bb",
   "metadata": {},
   "outputs": [
    {
     "data": {
      "text/plain": [
       "array([25, 62])"
      ]
     },
     "execution_count": 43,
     "metadata": {},
     "output_type": "execute_result"
    }
   ],
   "source": [
    "np.setdiff1d(n2,n1)"
   ]
  },
  {
   "cell_type": "code",
   "execution_count": 44,
   "id": "f45f44af",
   "metadata": {},
   "outputs": [
    {
     "data": {
      "text/plain": [
       "array([10, 40])"
      ]
     },
     "execution_count": 44,
     "metadata": {},
     "output_type": "execute_result"
    }
   ],
   "source": [
    "np.intersect1d(n1,n2)"
   ]
  },
  {
   "cell_type": "code",
   "execution_count": 45,
   "id": "6e1ac52c",
   "metadata": {},
   "outputs": [
    {
     "data": {
      "text/plain": [
       "array([10, 40])"
      ]
     },
     "execution_count": 45,
     "metadata": {},
     "output_type": "execute_result"
    }
   ],
   "source": [
    "np.intersect1d(n2,n1)"
   ]
  },
  {
   "cell_type": "code",
   "execution_count": null,
   "id": "164ba579",
   "metadata": {},
   "outputs": [],
   "source": []
  }
 ],
 "metadata": {
  "kernelspec": {
   "display_name": "Python 3",
   "language": "python",
   "name": "python3"
  },
  "language_info": {
   "codemirror_mode": {
    "name": "ipython",
    "version": 3
   },
   "file_extension": ".py",
   "mimetype": "text/x-python",
   "name": "python",
   "nbconvert_exporter": "python",
   "pygments_lexer": "ipython3",
   "version": "3.8.8"
  }
 },
 "nbformat": 4,
 "nbformat_minor": 5
}
